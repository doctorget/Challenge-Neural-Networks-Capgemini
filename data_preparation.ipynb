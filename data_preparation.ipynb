{
 "cells": [
  {
   "cell_type": "markdown",
   "metadata": {},
   "source": [
    "<h1>Preparação dos dados para geraração do CSV</h1>"
   ]
  },
  {
   "cell_type": "code",
   "execution_count": null,
   "metadata": {},
   "outputs": [],
   "source": [
    "import os \n",
    "import pandas as pd"
   ]
  },
  {
   "cell_type": "markdown",
   "metadata": {},
   "source": [
    "<h3>Cria um dicionario para salvar o id e o nome da imagem</h3>"
   ]
  },
  {
   "cell_type": "code",
   "execution_count": 2,
   "metadata": {},
   "outputs": [],
   "source": [
    "dicionario = {'label':[],'path':[]}"
   ]
  },
  {
   "cell_type": "markdown",
   "metadata": {},
   "source": [
    "<h3>Primeira tentativa com 30 imagens em cada pasta</h3>"
   ]
  },
  {
   "cell_type": "code",
   "execution_count": 3,
   "metadata": {},
   "outputs": [],
   "source": [
    "for folder in os.listdir('data-train'):\n",
    "    cont = 0\n",
    "    for name in os.listdir('data-train/'+folder):\n",
    "        if folder == '-1' and cont <= 30:\n",
    "            dicionario['label'].append(folder)\n",
    "            dicionario['path'].append(\"data-train/{0}/{1}\".format(folder, name))\n",
    "            cont += 1\n",
    "        if folder != '-1':\n",
    "            dicionario['label'].append(folder)\n",
    "            dicionario['path'].append(\"data-train/{0}/{1}\".format(folder, name))"
   ]
  },
  {
   "cell_type": "markdown",
   "metadata": {},
   "source": [
    "<h3>Segunda tentativa com 10 imagens em cada pasta</h3>"
   ]
  },
  {
   "cell_type": "code",
   "execution_count": null,
   "metadata": {},
   "outputs": [],
   "source": [
    "for folder in os.listdir('data-train'):\n",
    "    cont = 0\n",
    "    for name in os.listdir('data-train/'+folder):\n",
    "        if folder == '-1' and cont < 10:\n",
    "            dicionario['label'].append(folder)\n",
    "            dicionario['path'].append(\"data-train/{0}/{1}\".format(folder, name))\n",
    "            cont += 1\n",
    "        elif folder != '-1' and cont < 10:\n",
    "            dicionario['label'].append(folder)\n",
    "            dicionario['path'].append(\"data-train/{0}/{1}\".format(folder, name))\n",
    "            cont += 1"
   ]
  },
  {
   "cell_type": "markdown",
   "metadata": {},
   "source": [
    "<p>Percorre a pasta -1 e insere os 30 primeiros arquivos para que fique com a mesma quantidade de arquivos que as pastas seguintes.</p>\n",
    "\n",
    "<p>Salva o label (folder= nome da pasta) e path (name = nome da imagem) no dicionario.\n",
    "</p>"
   ]
  },
  {
   "cell_type": "code",
   "execution_count": 5,
   "metadata": {},
   "outputs": [],
   "source": [
    "df = pd.DataFrame(dicionario)"
   ]
  },
  {
   "cell_type": "code",
   "execution_count": 6,
   "metadata": {},
   "outputs": [
    {
     "data": {
      "text/html": [
       "<div>\n",
       "<style scoped>\n",
       "    .dataframe tbody tr th:only-of-type {\n",
       "        vertical-align: middle;\n",
       "    }\n",
       "\n",
       "    .dataframe tbody tr th {\n",
       "        vertical-align: top;\n",
       "    }\n",
       "\n",
       "    .dataframe thead th {\n",
       "        text-align: right;\n",
       "    }\n",
       "</style>\n",
       "<table border=\"1\" class=\"dataframe\">\n",
       "  <thead>\n",
       "    <tr style=\"text-align: right;\">\n",
       "      <th></th>\n",
       "      <th>label</th>\n",
       "      <th>path</th>\n",
       "    </tr>\n",
       "  </thead>\n",
       "  <tbody>\n",
       "    <tr>\n",
       "      <td>0</td>\n",
       "      <td>0161</td>\n",
       "      <td>data-train/0161/PM-WWA-20160724-126.jpg</td>\n",
       "    </tr>\n",
       "    <tr>\n",
       "      <td>1</td>\n",
       "      <td>0161</td>\n",
       "      <td>data-train/0161/PM-WWA-20160724-126.jpg_0_2041...</td>\n",
       "    </tr>\n",
       "    <tr>\n",
       "      <td>2</td>\n",
       "      <td>0161</td>\n",
       "      <td>data-train/0161/PM-WWA-20160724-126.jpg_0_2355...</td>\n",
       "    </tr>\n",
       "    <tr>\n",
       "      <td>3</td>\n",
       "      <td>0161</td>\n",
       "      <td>data-train/0161/PM-WWA-20160724-126.jpg_0_2747...</td>\n",
       "    </tr>\n",
       "    <tr>\n",
       "      <td>4</td>\n",
       "      <td>0161</td>\n",
       "      <td>data-train/0161/PM-WWA-20160724-126.jpg_0_2817...</td>\n",
       "    </tr>\n",
       "    <tr>\n",
       "      <td>5</td>\n",
       "      <td>0161</td>\n",
       "      <td>data-train/0161/PM-WWA-20160724-126.jpg_0_2834...</td>\n",
       "    </tr>\n",
       "    <tr>\n",
       "      <td>6</td>\n",
       "      <td>0161</td>\n",
       "      <td>data-train/0161/PM-WWA-20160724-126.jpg_0_3242...</td>\n",
       "    </tr>\n",
       "    <tr>\n",
       "      <td>7</td>\n",
       "      <td>0161</td>\n",
       "      <td>data-train/0161/PM-WWA-20160724-126.jpg_0_3371...</td>\n",
       "    </tr>\n",
       "    <tr>\n",
       "      <td>8</td>\n",
       "      <td>0161</td>\n",
       "      <td>data-train/0161/PM-WWA-20160724-126.jpg_0_3511...</td>\n",
       "    </tr>\n",
       "    <tr>\n",
       "      <td>9</td>\n",
       "      <td>0161</td>\n",
       "      <td>data-train/0161/PM-WWA-20160724-126.jpg_0_352....</td>\n",
       "    </tr>\n",
       "    <tr>\n",
       "      <td>10</td>\n",
       "      <td>0161</td>\n",
       "      <td>data-train/0161/PM-WWA-20160724-126.jpg_0_3654...</td>\n",
       "    </tr>\n",
       "    <tr>\n",
       "      <td>11</td>\n",
       "      <td>0161</td>\n",
       "      <td>data-train/0161/PM-WWA-20160724-126.jpg_0_4286...</td>\n",
       "    </tr>\n",
       "    <tr>\n",
       "      <td>12</td>\n",
       "      <td>0161</td>\n",
       "      <td>data-train/0161/PM-WWA-20160724-126.jpg_0_5254...</td>\n",
       "    </tr>\n",
       "    <tr>\n",
       "      <td>13</td>\n",
       "      <td>0161</td>\n",
       "      <td>data-train/0161/PM-WWA-20160724-126.jpg_0_5377...</td>\n",
       "    </tr>\n",
       "    <tr>\n",
       "      <td>14</td>\n",
       "      <td>0161</td>\n",
       "      <td>data-train/0161/PM-WWA-20160724-126.jpg_0_569....</td>\n",
       "    </tr>\n",
       "    <tr>\n",
       "      <td>15</td>\n",
       "      <td>0161</td>\n",
       "      <td>data-train/0161/PM-WWA-20160724-126.jpg_0_5767...</td>\n",
       "    </tr>\n",
       "    <tr>\n",
       "      <td>16</td>\n",
       "      <td>0161</td>\n",
       "      <td>data-train/0161/PM-WWA-20160724-126.jpg_0_6154...</td>\n",
       "    </tr>\n",
       "    <tr>\n",
       "      <td>17</td>\n",
       "      <td>0161</td>\n",
       "      <td>data-train/0161/PM-WWA-20160724-126.jpg_0_6622...</td>\n",
       "    </tr>\n",
       "    <tr>\n",
       "      <td>18</td>\n",
       "      <td>0161</td>\n",
       "      <td>data-train/0161/PM-WWA-20160724-126.jpg_0_676....</td>\n",
       "    </tr>\n",
       "    <tr>\n",
       "      <td>19</td>\n",
       "      <td>0161</td>\n",
       "      <td>data-train/0161/PM-WWA-20160724-126.jpg_0_8012...</td>\n",
       "    </tr>\n",
       "  </tbody>\n",
       "</table>\n",
       "</div>"
      ],
      "text/plain": [
       "   label                                               path\n",
       "0   0161            data-train/0161/PM-WWA-20160724-126.jpg\n",
       "1   0161  data-train/0161/PM-WWA-20160724-126.jpg_0_2041...\n",
       "2   0161  data-train/0161/PM-WWA-20160724-126.jpg_0_2355...\n",
       "3   0161  data-train/0161/PM-WWA-20160724-126.jpg_0_2747...\n",
       "4   0161  data-train/0161/PM-WWA-20160724-126.jpg_0_2817...\n",
       "5   0161  data-train/0161/PM-WWA-20160724-126.jpg_0_2834...\n",
       "6   0161  data-train/0161/PM-WWA-20160724-126.jpg_0_3242...\n",
       "7   0161  data-train/0161/PM-WWA-20160724-126.jpg_0_3371...\n",
       "8   0161  data-train/0161/PM-WWA-20160724-126.jpg_0_3511...\n",
       "9   0161  data-train/0161/PM-WWA-20160724-126.jpg_0_352....\n",
       "10  0161  data-train/0161/PM-WWA-20160724-126.jpg_0_3654...\n",
       "11  0161  data-train/0161/PM-WWA-20160724-126.jpg_0_4286...\n",
       "12  0161  data-train/0161/PM-WWA-20160724-126.jpg_0_5254...\n",
       "13  0161  data-train/0161/PM-WWA-20160724-126.jpg_0_5377...\n",
       "14  0161  data-train/0161/PM-WWA-20160724-126.jpg_0_569....\n",
       "15  0161  data-train/0161/PM-WWA-20160724-126.jpg_0_5767...\n",
       "16  0161  data-train/0161/PM-WWA-20160724-126.jpg_0_6154...\n",
       "17  0161  data-train/0161/PM-WWA-20160724-126.jpg_0_6622...\n",
       "18  0161  data-train/0161/PM-WWA-20160724-126.jpg_0_676....\n",
       "19  0161  data-train/0161/PM-WWA-20160724-126.jpg_0_8012..."
      ]
     },
     "execution_count": 6,
     "metadata": {},
     "output_type": "execute_result"
    }
   ],
   "source": [
    "df.head(20)"
   ]
  },
  {
   "cell_type": "code",
   "execution_count": 7,
   "metadata": {},
   "outputs": [
    {
     "data": {
      "text/plain": [
       "1       577\n",
       "2352     37\n",
       "3201     30\n",
       "5311     30\n",
       "3983     30\n",
       "       ... \n",
       "5874     30\n",
       "5579     30\n",
       "5187     30\n",
       "1364     30\n",
       "5318     30\n",
       "Name: label, Length: 2235, dtype: int64"
      ]
     },
     "execution_count": 7,
     "metadata": {},
     "output_type": "execute_result"
    }
   ],
   "source": [
    "df.label.value_counts()"
   ]
  },
  {
   "cell_type": "code",
   "execution_count": 8,
   "metadata": {},
   "outputs": [
    {
     "data": {
      "text/plain": [
       "0        False\n",
       "1        False\n",
       "2        False\n",
       "3        False\n",
       "4        False\n",
       "         ...  \n",
       "67599    False\n",
       "67600    False\n",
       "67601    False\n",
       "67602    False\n",
       "67603    False\n",
       "Length: 67604, dtype: bool"
      ]
     },
     "execution_count": 8,
     "metadata": {},
     "output_type": "execute_result"
    }
   ],
   "source": [
    "df.duplicated()"
   ]
  },
  {
   "cell_type": "code",
   "execution_count": 9,
   "metadata": {},
   "outputs": [],
   "source": [
    "df.to_csv(\"dataset_train.csv\",index=False)"
   ]
  }
 ],
 "metadata": {
  "kernelspec": {
   "display_name": "Python 3",
   "language": "python",
   "name": "python3"
  },
  "language_info": {
   "codemirror_mode": {
    "name": "ipython",
    "version": 3
   },
   "file_extension": ".py",
   "mimetype": "text/x-python",
   "name": "python",
   "nbconvert_exporter": "python",
   "pygments_lexer": "ipython3",
   "version": "3.7.4"
  }
 },
 "nbformat": 4,
 "nbformat_minor": 2
}
