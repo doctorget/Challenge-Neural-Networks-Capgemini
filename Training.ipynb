{
 "cells": [
  {
   "cell_type": "code",
   "execution_count": 1,
   "metadata": {},
   "outputs": [
    {
     "name": "stderr",
     "output_type": "stream",
     "text": [
      "Using TensorFlow backend.\n"
     ]
    }
   ],
   "source": [
    "import keras\n",
    "from keras.models import Sequential\n",
    "from keras.applications.vgg16 import VGG16\n",
    "from keras.layers import Dense, InputLayer, Dropout, Flatten\n",
    "from keras.layers import Conv2D, MaxPooling2D, GlobalMaxPooling2D\n",
    "from keras.preprocessing import image\n",
    "import numpy as np\n",
    "import pandas as pd\n",
    "import matplotlib.pyplot as plt\n",
    "from tqdm import tqdm\n",
    "from sklearn.model_selection import train_test_split\n",
    "from keras.layers.normalization import BatchNormalization"
   ]
  },
  {
   "cell_type": "code",
   "execution_count": 2,
   "metadata": {},
   "outputs": [],
   "source": [
    "df = pd.read_csv('dataset_train.csv')\n",
    "train = df[(df['label'] == '2352') | (df['label'] == '1543') | (df['label'] == '2529') | (df['label'] == '2628') | (df['label'] == '1333') | (df['label'] == '2556') | (df['label'] == '1746') | (df['label'] == '2907') | (df['label'] == '2579') | (df['label'] == '3101')]"
   ]
  },
  {
   "cell_type": "code",
   "execution_count": 3,
   "metadata": {},
   "outputs": [],
   "source": [
    "train = train.reset_index()\n",
    "train.drop('index',axis=1,inplace=True)"
   ]
  },
  {
   "cell_type": "code",
   "execution_count": 4,
   "metadata": {},
   "outputs": [
    {
     "data": {
      "text/html": [
       "<div>\n",
       "<style scoped>\n",
       "    .dataframe tbody tr th:only-of-type {\n",
       "        vertical-align: middle;\n",
       "    }\n",
       "\n",
       "    .dataframe tbody tr th {\n",
       "        vertical-align: top;\n",
       "    }\n",
       "\n",
       "    .dataframe thead th {\n",
       "        text-align: right;\n",
       "    }\n",
       "</style>\n",
       "<table border=\"1\" class=\"dataframe\">\n",
       "  <thead>\n",
       "    <tr style=\"text-align: right;\">\n",
       "      <th></th>\n",
       "      <th>label</th>\n",
       "      <th>path</th>\n",
       "    </tr>\n",
       "  </thead>\n",
       "  <tbody>\n",
       "    <tr>\n",
       "      <th>0</th>\n",
       "      <td>1333</td>\n",
       "      <td>data-train/1333/PM-WWA-20050620-050.jpg</td>\n",
       "    </tr>\n",
       "    <tr>\n",
       "      <th>1</th>\n",
       "      <td>1333</td>\n",
       "      <td>data-train/1333/PM-WWA-20050620-153.jpg</td>\n",
       "    </tr>\n",
       "    <tr>\n",
       "      <th>2</th>\n",
       "      <td>1333</td>\n",
       "      <td>data-train/1333/PM-WWA-20070526-232.jpg</td>\n",
       "    </tr>\n",
       "    <tr>\n",
       "      <th>3</th>\n",
       "      <td>1333</td>\n",
       "      <td>data-train/1333/PM-WWA-20070617-087.jpg</td>\n",
       "    </tr>\n",
       "    <tr>\n",
       "      <th>4</th>\n",
       "      <td>1333</td>\n",
       "      <td>data-train/1333/PM-WWA-20070620-023.jpg</td>\n",
       "    </tr>\n",
       "  </tbody>\n",
       "</table>\n",
       "</div>"
      ],
      "text/plain": [
       "  label                                     path\n",
       "0  1333  data-train/1333/PM-WWA-20050620-050.jpg\n",
       "1  1333  data-train/1333/PM-WWA-20050620-153.jpg\n",
       "2  1333  data-train/1333/PM-WWA-20070526-232.jpg\n",
       "3  1333  data-train/1333/PM-WWA-20070617-087.jpg\n",
       "4  1333  data-train/1333/PM-WWA-20070620-023.jpg"
      ]
     },
     "execution_count": 4,
     "metadata": {},
     "output_type": "execute_result"
    }
   ],
   "source": [
    "train.head()"
   ]
  },
  {
   "cell_type": "code",
   "execution_count": 5,
   "metadata": {
    "scrolled": true
   },
   "outputs": [
    {
     "name": "stderr",
     "output_type": "stream",
     "text": [
      "100%|████████████████████████████████████████████████████████████████████████████████| 207/207 [00:06<00:00, 30.23it/s]\n"
     ]
    }
   ],
   "source": [
    "train_image = []\n",
    "\n",
    "for i in tqdm(range(train.shape[0])):\n",
    "    # loading the image and keeping the target size as (224,224,3)\n",
    "    img = image.load_img(train['path'][i], target_size=(224,224,3))\n",
    "    # converting it to array\n",
    "    img = image.img_to_array(img)\n",
    "    # normalizing the pixel value\n",
    "    img = img/255\n",
    "    # appending the image to the train_image list\n",
    "    train_image.append(img)"
   ]
  },
  {
   "cell_type": "code",
   "execution_count": 6,
   "metadata": {},
   "outputs": [
    {
     "data": {
      "text/plain": [
       "(207, 224, 224, 3)"
      ]
     },
     "execution_count": 6,
     "metadata": {},
     "output_type": "execute_result"
    }
   ],
   "source": [
    "# converting the list to numpy array\n",
    "X = np.array(train_image)\n",
    "\n",
    "# shape of the array\n",
    "X.shape"
   ]
  },
  {
   "cell_type": "code",
   "execution_count": 7,
   "metadata": {},
   "outputs": [],
   "source": [
    "y = train['label']\n",
    "\n",
    "X_train, X_test, y_train, y_test = train_test_split(X, y, random_state=42, test_size=0.2, stratify = y)"
   ]
  },
  {
   "cell_type": "code",
   "execution_count": 8,
   "metadata": {},
   "outputs": [],
   "source": [
    "X_train = X_train.reshape(X_train.shape[0], 224, 224, 3)\n",
    "X_test = X_test.reshape(X_test.shape[0], 224, 224, 3)"
   ]
  },
  {
   "cell_type": "code",
   "execution_count": 9,
   "metadata": {},
   "outputs": [],
   "source": [
    "X_train = X_train.astype('float32')\n",
    "X_test = X_test.astype('float32')"
   ]
  },
  {
   "cell_type": "code",
   "execution_count": 10,
   "metadata": {},
   "outputs": [],
   "source": [
    "X_train /= 255\n",
    "X_test /= 255"
   ]
  },
  {
   "cell_type": "code",
   "execution_count": 11,
   "metadata": {},
   "outputs": [],
   "source": [
    "y_train = pd.get_dummies(y_train)\n",
    "y_test = pd.get_dummies(y_test)"
   ]
  },
  {
   "cell_type": "code",
   "execution_count": 15,
   "metadata": {},
   "outputs": [],
   "source": [
    "model = Sequential()\n",
    "\n",
    "model.add(Conv2D(32, (3,3), input_shape=(224, 224, 3), activation = 'relu'))\n",
    "model.add(BatchNormalization())\n",
    "\n",
    "model.add(MaxPooling2D(pool_size = (2,2)))\n",
    "\n",
    "model.add(Conv2D(32, (3,3), activation = 'relu')) \n",
    "model.add(BatchNormalization()) \n",
    "model.add(MaxPooling2D(pool_size = (2,2)))\n",
    "model.add(Flatten())"
   ]
  },
  {
   "cell_type": "code",
   "execution_count": 16,
   "metadata": {},
   "outputs": [],
   "source": [
    "model.add(Dense(units = 512, activation = 'relu'))\n",
    "model.add(Dropout(0.2))\n",
    "\n",
    "model.add(Dense(units = 256, activation = 'relu'))\n",
    "model.add(Dropout(0.2))\n",
    "\n",
    "model.add(Dense(units = 128, activation = 'relu'))\n",
    "model.add(Dropout(0.2))\n",
    "\n",
    "model.add(Dense(units = 128, activation = 'relu')) \n",
    "model.add(Dropout(0.2))"
   ]
  },
  {
   "cell_type": "code",
   "execution_count": 17,
   "metadata": {},
   "outputs": [],
   "source": [
    "model.add(Dense(units = 10, activation = 'softmax')) \n",
    "model.compile(loss = 'categorical_crossentropy', optimizer = 'adam', metrics = ['accuracy'])"
   ]
  },
  {
   "cell_type": "code",
   "execution_count": 18,
   "metadata": {},
   "outputs": [
    {
     "name": "stdout",
     "output_type": "stream",
     "text": [
      "Train on 165 samples, validate on 42 samples\n",
      "Epoch 1/60\n",
      "165/165 [==============================] - ETA: 28s - loss: 2.3028 - accuracy: 0.109 - 118s 715ms/step - loss: 2.4118 - accuracy: 0.0970 - val_loss: 2.3022 - val_accuracy: 0.0714\n",
      "Epoch 2/60\n",
      "165/165 [==============================] - ETA: 38s - loss: 2.9535 - accuracy: 0.109 - 168s 1s/step - loss: 2.8083 - accuracy: 0.1212 - val_loss: 2.2998 - val_accuracy: 0.1905\n",
      "Epoch 3/60\n",
      "165/165 [==============================] - ETA: 34s - loss: 2.2618 - accuracy: 0.187 - 151s 916ms/step - loss: 2.2581 - accuracy: 0.2121 - val_loss: 2.3018 - val_accuracy: 0.0714\n",
      "Epoch 4/60\n",
      "165/165 [==============================] - ETA: 31s - loss: 2.1646 - accuracy: 0.195 - 126s 766ms/step - loss: 2.1391 - accuracy: 0.2182 - val_loss: 2.2980 - val_accuracy: 0.1905\n",
      "Epoch 5/60\n",
      "165/165 [==============================] - ETA: 38s - loss: 2.0813 - accuracy: 0.265 - 159s 966ms/step - loss: 2.0423 - accuracy: 0.2667 - val_loss: 2.3015 - val_accuracy: 0.0952\n",
      "Epoch 6/60\n",
      "165/165 [==============================] - ETA: 38s - loss: 2.1178 - accuracy: 0.257 - 175s 1s/step - loss: 2.1167 - accuracy: 0.2485 - val_loss: 2.3028 - val_accuracy: 0.0952\n",
      "Epoch 7/60\n",
      "165/165 [==============================] - ETA: 39s - loss: 2.0687 - accuracy: 0.265 - 162s 983ms/step - loss: 2.0001 - accuracy: 0.2848 - val_loss: 2.3034 - val_accuracy: 0.1905\n",
      "Epoch 8/60\n",
      "165/165 [==============================] - ETA: 40s - loss: 1.7972 - accuracy: 0.375 - 184s 1s/step - loss: 1.7801 - accuracy: 0.3879 - val_loss: 2.3121 - val_accuracy: 0.0714\n",
      "Epoch 9/60\n",
      "165/165 [==============================] - ETA: 32s - loss: 1.8631 - accuracy: 0.320 - 136s 823ms/step - loss: 1.8732 - accuracy: 0.3273 - val_loss: 2.3081 - val_accuracy: 0.0952\n",
      "Epoch 10/60\n",
      "165/165 [==============================] - ETA: 31s - loss: 1.8916 - accuracy: 0.359 - 136s 827ms/step - loss: 1.8666 - accuracy: 0.3455 - val_loss: 2.2992 - val_accuracy: 0.1905\n",
      "Epoch 11/60\n",
      "165/165 [==============================] - ETA: 26s - loss: 1.6473 - accuracy: 0.421 - 113s 687ms/step - loss: 1.6689 - accuracy: 0.4121 - val_loss: 2.2925 - val_accuracy: 0.0714\n",
      "Epoch 12/60\n",
      "165/165 [==============================] - ETA: 29s - loss: 1.6033 - accuracy: 0.398 - 120s 727ms/step - loss: 1.5781 - accuracy: 0.4000 - val_loss: 2.2972 - val_accuracy: 0.0714\n",
      "Epoch 13/60\n",
      "165/165 [==============================] - ETA: 25s - loss: 1.4269 - accuracy: 0.507 - 111s 676ms/step - loss: 1.4267 - accuracy: 0.5091 - val_loss: 2.3109 - val_accuracy: 0.0714\n",
      "Epoch 14/60\n",
      "165/165 [==============================] - ETA: 23s - loss: 1.3606 - accuracy: 0.492 - 110s 668ms/step - loss: 1.3536 - accuracy: 0.4667 - val_loss: 2.3165 - val_accuracy: 0.0714\n",
      "Epoch 15/60\n",
      "165/165 [==============================] - ETA: 26s - loss: 1.0250 - accuracy: 0.640 - 117s 711ms/step - loss: 1.0575 - accuracy: 0.6424 - val_loss: 2.3249 - val_accuracy: 0.1905\n",
      "Epoch 16/60\n",
      "165/165 [==============================] - ETA: 23s - loss: 0.7287 - accuracy: 0.726 - 99s 599ms/step - loss: 0.7671 - accuracy: 0.7152 - val_loss: 2.3357 - val_accuracy: 0.1905\n",
      "Epoch 17/60\n",
      "165/165 [==============================] - ETA: 26s - loss: 0.7451 - accuracy: 0.726 - 111s 672ms/step - loss: 0.6855 - accuracy: 0.7697 - val_loss: 2.3571 - val_accuracy: 0.1905\n",
      "Epoch 18/60\n",
      "165/165 [==============================] - ETA: 22s - loss: 0.6997 - accuracy: 0.781 - 99s 598ms/step - loss: 0.6849 - accuracy: 0.7818 - val_loss: 2.3765 - val_accuracy: 0.1905\n",
      "Epoch 19/60\n",
      "165/165 [==============================] - ETA: 27s - loss: 0.6061 - accuracy: 0.812 - 111s 671ms/step - loss: 0.5985 - accuracy: 0.8182 - val_loss: 2.4424 - val_accuracy: 0.1905\n",
      "Epoch 20/60\n",
      "165/165 [==============================] - ETA: 23s - loss: 0.5482 - accuracy: 0.796 - 100s 608ms/step - loss: 0.5546 - accuracy: 0.7939 - val_loss: 2.5339 - val_accuracy: 0.1905\n",
      "Epoch 21/60\n",
      "165/165 [==============================] - ETA: 26s - loss: 0.4679 - accuracy: 0.828 - 110s 669ms/step - loss: 0.4348 - accuracy: 0.8424 - val_loss: 2.5248 - val_accuracy: 0.1905\n",
      "Epoch 22/60\n",
      "165/165 [==============================] - ETA: 25s - loss: 0.3436 - accuracy: 0.890 - 106s 642ms/step - loss: 0.3275 - accuracy: 0.8848 - val_loss: 2.4340 - val_accuracy: 0.1905\n",
      "Epoch 23/60\n",
      "165/165 [==============================] - ETA: 25s - loss: 0.2116 - accuracy: 0.953 - 111s 671ms/step - loss: 0.2335 - accuracy: 0.9333 - val_loss: 2.3846 - val_accuracy: 0.1905\n",
      "Epoch 24/60\n",
      "165/165 [==============================] - ETA: 23s - loss: 0.2035 - accuracy: 0.914 - 106s 644ms/step - loss: 0.2238 - accuracy: 0.8970 - val_loss: 2.3557 - val_accuracy: 0.1905\n",
      "Epoch 25/60\n",
      "165/165 [==============================] - ETA: 22s - loss: 0.2144 - accuracy: 0.945 - 99s 601ms/step - loss: 0.2258 - accuracy: 0.9333 - val_loss: 2.3317 - val_accuracy: 0.1905\n",
      "Epoch 26/60\n",
      "165/165 [==============================] - ETA: 25s - loss: 0.2170 - accuracy: 0.929 - 110s 666ms/step - loss: 0.2310 - accuracy: 0.9152 - val_loss: 2.3002 - val_accuracy: 0.1905\n",
      "Epoch 27/60\n",
      "165/165 [==============================] - ETA: 27s - loss: 0.1121 - accuracy: 0.968 - 119s 724ms/step - loss: 0.1061 - accuracy: 0.9697 - val_loss: 2.2853 - val_accuracy: 0.1905\n",
      "Epoch 28/60\n",
      "165/165 [==============================] - ETA: 23s - loss: 0.1559 - accuracy: 0.960 - 103s 625ms/step - loss: 0.1357 - accuracy: 0.9697 - val_loss: 2.2893 - val_accuracy: 0.1905\n",
      "Epoch 29/60\n",
      "165/165 [==============================] - ETA: 28s - loss: 0.1149 - accuracy: 0.960 - 118s 716ms/step - loss: 0.0957 - accuracy: 0.9636 - val_loss: 2.2966 - val_accuracy: 0.1905\n",
      "Epoch 30/60\n",
      "165/165 [==============================] - ETA: 27s - loss: 0.1222 - accuracy: 0.968 - 112s 681ms/step - loss: 0.1024 - accuracy: 0.9758 - val_loss: 2.2948 - val_accuracy: 0.1905\n",
      "Epoch 31/60\n",
      "165/165 [==============================] - ETA: 25s - loss: 0.0978 - accuracy: 0.968 - 106s 640ms/step - loss: 0.0804 - accuracy: 0.9758 - val_loss: 2.3033 - val_accuracy: 0.1905\n",
      "Epoch 32/60\n",
      "165/165 [==============================] - ETA: 23s - loss: 0.1040 - accuracy: 0.968 - 101s 611ms/step - loss: 0.0843 - accuracy: 0.9758 - val_loss: 2.3294 - val_accuracy: 0.1905\n",
      "Epoch 33/60\n",
      "165/165 [==============================] - ETA: 24s - loss: 0.0465 - accuracy: 0.984 - 109s 662ms/step - loss: 0.0509 - accuracy: 0.9818 - val_loss: 2.3674 - val_accuracy: 0.1905\n",
      "Epoch 34/60\n",
      "165/165 [==============================] - ETA: 28s - loss: 0.0537 - accuracy: 0.984 - 116s 706ms/step - loss: 0.0445 - accuracy: 0.9879 - val_loss: 2.4101 - val_accuracy: 0.1905\n",
      "Epoch 35/60\n",
      "165/165 [==============================] - ETA: 25s - loss: 0.0235 - accuracy: 0.992 - 106s 644ms/step - loss: 0.0273 - accuracy: 0.9939 - val_loss: 2.4186 - val_accuracy: 0.1905\n",
      "Epoch 36/60\n",
      "165/165 [==============================] - ETA: 24s - loss: 0.1712 - accuracy: 0.992 - 102s 618ms/step - loss: 0.1357 - accuracy: 0.9939 - val_loss: 2.4234 - val_accuracy: 0.1905\n",
      "Epoch 37/60\n",
      "165/165 [==============================] - ETA: 22s - loss: 0.0234 - accuracy: 0.992 - 90s 545ms/step - loss: 0.0225 - accuracy: 0.9939 - val_loss: 2.4315 - val_accuracy: 0.1905\n",
      "Epoch 38/60\n",
      "165/165 [==============================] - ETA: 25s - loss: 0.0148 - accuracy: 1.000 - 109s 663ms/step - loss: 0.0150 - accuracy: 1.0000 - val_loss: 2.4524 - val_accuracy: 0.1905\n",
      "Epoch 39/60\n",
      "165/165 [==============================] - ETA: 27s - loss: 0.0307 - accuracy: 0.992 - 115s 699ms/step - loss: 0.0260 - accuracy: 0.9939 - val_loss: 2.4829 - val_accuracy: 0.1905\n",
      "Epoch 40/60\n",
      "165/165 [==============================] - ETA: 25s - loss: 0.0264 - accuracy: 0.992 - 107s 647ms/step - loss: 0.0265 - accuracy: 0.9939 - val_loss: 2.5122 - val_accuracy: 0.1905\n",
      "Epoch 41/60\n",
      "165/165 [==============================] - ETA: 21s - loss: 0.0250 - accuracy: 0.992 - 90s 548ms/step - loss: 0.0238 - accuracy: 0.9939 - val_loss: 2.5459 - val_accuracy: 0.1905\n",
      "Epoch 42/60\n",
      "165/165 [==============================] - ETA: 23s - loss: 0.0229 - accuracy: 0.992 - 99s 598ms/step - loss: 0.0185 - accuracy: 0.9939 - val_loss: 2.5608 - val_accuracy: 0.1905\n",
      "Epoch 43/60\n",
      "165/165 [==============================] - ETA: 25s - loss: 0.0088 - accuracy: 1.000 - 109s 660ms/step - loss: 0.0131 - accuracy: 0.9939 - val_loss: 2.5698 - val_accuracy: 0.1905\n"
     ]
    },
    {
     "name": "stdout",
     "output_type": "stream",
     "text": [
      "Epoch 44/60\n",
      "165/165 [==============================] - ETA: 28s - loss: 0.0531 - accuracy: 0.984 - 111s 671ms/step - loss: 0.0414 - accuracy: 0.9879 - val_loss: 2.5847 - val_accuracy: 0.1905\n",
      "Epoch 45/60\n",
      "165/165 [==============================] - ETA: 24s - loss: 0.0100 - accuracy: 1.000 - 109s 658ms/step - loss: 0.0083 - accuracy: 1.0000 - val_loss: 2.6058 - val_accuracy: 0.1905\n",
      "Epoch 46/60\n",
      "165/165 [==============================] - ETA: 26s - loss: 0.0615 - accuracy: 0.984 - 112s 678ms/step - loss: 0.0483 - accuracy: 0.9879 - val_loss: 2.6230 - val_accuracy: 0.1905\n",
      "Epoch 47/60\n",
      "165/165 [==============================] - ETA: 26s - loss: 0.0236 - accuracy: 0.992 - 108s 656ms/step - loss: 0.0254 - accuracy: 0.9879 - val_loss: 2.6364 - val_accuracy: 0.1905\n",
      "Epoch 48/60\n",
      "165/165 [==============================] - ETA: 27s - loss: 0.0027 - accuracy: 1.000 - 112s 680ms/step - loss: 0.0022 - accuracy: 1.0000 - val_loss: 2.6552 - val_accuracy: 0.1905\n",
      "Epoch 49/60\n",
      "165/165 [==============================] - ETA: 27s - loss: 0.0152 - accuracy: 1.000 - 118s 715ms/step - loss: 0.0357 - accuracy: 0.9879 - val_loss: 2.7414 - val_accuracy: 0.1905\n",
      "Epoch 50/60\n",
      "165/165 [==============================] - ETA: 24s - loss: 0.0085 - accuracy: 1.000 - 102s 620ms/step - loss: 0.0083 - accuracy: 1.0000 - val_loss: 2.8656 - val_accuracy: 0.1905\n",
      "Epoch 51/60\n",
      "165/165 [==============================] - ETA: 23s - loss: 0.0087 - accuracy: 1.000 - 101s 613ms/step - loss: 0.0129 - accuracy: 1.0000 - val_loss: 2.9511 - val_accuracy: 0.1905\n",
      "Epoch 52/60\n",
      "165/165 [==============================] - ETA: 25s - loss: 0.0328 - accuracy: 0.992 - 104s 629ms/step - loss: 0.0269 - accuracy: 0.9939 - val_loss: 2.9727 - val_accuracy: 0.1905\n",
      "Epoch 53/60\n",
      "165/165 [==============================] - ETA: 26s - loss: 0.0123 - accuracy: 0.992 - 111s 675ms/step - loss: 0.0132 - accuracy: 0.9939 - val_loss: 2.9859 - val_accuracy: 0.1905\n",
      "Epoch 54/60\n",
      "165/165 [==============================] - ETA: 24s - loss: 0.0083 - accuracy: 1.000 - 102s 616ms/step - loss: 0.0148 - accuracy: 0.9939 - val_loss: 3.0187 - val_accuracy: 0.2143\n",
      "Epoch 55/60\n",
      "165/165 [==============================] - ETA: 21s - loss: 0.0026 - accuracy: 1.000 - 93s 564ms/step - loss: 0.0054 - accuracy: 1.0000 - val_loss: 3.0704 - val_accuracy: 0.0952\n",
      "Epoch 56/60\n",
      "165/165 [==============================] - ETA: 24s - loss: 0.0483 - accuracy: 0.968 - 99s 602ms/step - loss: 0.0389 - accuracy: 0.9758 - val_loss: 3.5439 - val_accuracy: 0.0952\n",
      "Epoch 57/60\n",
      "165/165 [==============================] - ETA: 26s - loss: 0.0070 - accuracy: 1.000 - 111s 675ms/step - loss: 0.0114 - accuracy: 0.9939 - val_loss: 4.0696 - val_accuracy: 0.0952\n",
      "Epoch 58/60\n",
      "165/165 [==============================] - ETA: 23s - loss: 0.0032 - accuracy: 1.000 - 105s 638ms/step - loss: 0.0270 - accuracy: 0.9939 - val_loss: 4.5880 - val_accuracy: 0.0952\n",
      "Epoch 59/60\n",
      "165/165 [==============================] - ETA: 26s - loss: 0.0043 - accuracy: 1.000 - 126s 762ms/step - loss: 0.0041 - accuracy: 1.0000 - val_loss: 4.9916 - val_accuracy: 0.0952\n",
      "Epoch 60/60\n",
      "165/165 [==============================] - ETA: 26s - loss: 0.0269 - accuracy: 0.984 - 107s 648ms/step - loss: 0.0224 - accuracy: 0.9879 - val_loss: 5.3120 - val_accuracy: 0.0952\n"
     ]
    },
    {
     "data": {
      "text/plain": [
       "<keras.callbacks.callbacks.History at 0x1541984f448>"
      ]
     },
     "execution_count": 18,
     "metadata": {},
     "output_type": "execute_result"
    }
   ],
   "source": [
    "model.fit(X_train, y_train, batch_size = 128, epochs = 60, validation_data = (X_test, y_test))"
   ]
  },
  {
   "cell_type": "code",
   "execution_count": null,
   "metadata": {},
   "outputs": [],
   "source": []
  },
  {
   "cell_type": "code",
   "execution_count": null,
   "metadata": {},
   "outputs": [],
   "source": []
  },
  {
   "cell_type": "code",
   "execution_count": null,
   "metadata": {},
   "outputs": [],
   "source": []
  },
  {
   "cell_type": "code",
   "execution_count": 19,
   "metadata": {},
   "outputs": [
    {
     "data": {
      "text/plain": [
       "(165, 7, 7, 512)"
      ]
     },
     "execution_count": 19,
     "metadata": {},
     "output_type": "execute_result"
    }
   ],
   "source": [
    "X_train = base_model.predict(X_train)\n",
    "X_train.shape"
   ]
  },
  {
   "cell_type": "code",
   "execution_count": 20,
   "metadata": {},
   "outputs": [
    {
     "data": {
      "text/plain": [
       "(42, 7, 7, 512)"
      ]
     },
     "execution_count": 20,
     "metadata": {},
     "output_type": "execute_result"
    }
   ],
   "source": [
    "X_test = base_model.predict(X_test)\n",
    "X_test.shape"
   ]
  },
  {
   "cell_type": "code",
   "execution_count": 23,
   "metadata": {},
   "outputs": [
    {
     "name": "stdout",
     "output_type": "stream",
     "text": [
      "42/42 [==============================] - ETA:  - 2s 40ms/step\n"
     ]
    }
   ],
   "source": [
    "result = model.evaluate(X_test, y_test)"
   ]
  },
  {
   "cell_type": "code",
   "execution_count": 24,
   "metadata": {},
   "outputs": [
    {
     "data": {
      "text/plain": [
       "[5.312014579772949, 0.095238097012043]"
      ]
     },
     "execution_count": 24,
     "metadata": {},
     "output_type": "execute_result"
    }
   ],
   "source": [
    "result"
   ]
  },
  {
   "cell_type": "code",
   "execution_count": null,
   "metadata": {},
   "outputs": [],
   "source": []
  },
  {
   "cell_type": "code",
   "execution_count": null,
   "metadata": {},
   "outputs": [],
   "source": []
  },
  {
   "cell_type": "code",
   "execution_count": null,
   "metadata": {},
   "outputs": [],
   "source": []
  },
  {
   "cell_type": "code",
   "execution_count": null,
   "metadata": {},
   "outputs": [],
   "source": []
  },
  {
   "cell_type": "code",
   "execution_count": 9,
   "metadata": {},
   "outputs": [],
   "source": [
    "# creating dummies of target variable for train and validation set\n"
   ]
  },
  {
   "cell_type": "code",
   "execution_count": 18,
   "metadata": {},
   "outputs": [],
   "source": [
    "base_model = VGG16(weights='imagenet', include_top=False)"
   ]
  },
  {
   "cell_type": "code",
   "execution_count": 81,
   "metadata": {},
   "outputs": [
    {
     "data": {
      "text/plain": [
       "(165, 7, 7, 512)"
      ]
     },
     "execution_count": 81,
     "metadata": {},
     "output_type": "execute_result"
    }
   ],
   "source": [
    "X_train = base_model.predict(X_train)\n",
    "X_train.shape"
   ]
  },
  {
   "cell_type": "code",
   "execution_count": 82,
   "metadata": {},
   "outputs": [
    {
     "data": {
      "text/plain": [
       "(42, 7, 7, 512)"
      ]
     },
     "execution_count": 82,
     "metadata": {},
     "output_type": "execute_result"
    }
   ],
   "source": [
    "X_test = base_model.predict(X_test)\n",
    "X_test.shape"
   ]
  },
  {
   "cell_type": "code",
   "execution_count": 12,
   "metadata": {},
   "outputs": [
    {
     "data": {
      "text/plain": [
       "(42, 224, 224, 3)"
      ]
     },
     "execution_count": 12,
     "metadata": {},
     "output_type": "execute_result"
    }
   ],
   "source": [
    "X_test.shape"
   ]
  },
  {
   "cell_type": "code",
   "execution_count": 10,
   "metadata": {},
   "outputs": [
    {
     "ename": "ValueError",
     "evalue": "cannot reshape array of size 24837120 into shape (165,25088)",
     "output_type": "error",
     "traceback": [
      "\u001b[1;31m---------------------------------------------------------------------------\u001b[0m",
      "\u001b[1;31mValueError\u001b[0m                                Traceback (most recent call last)",
      "\u001b[1;32m<ipython-input-10-78ca16fa88f3>\u001b[0m in \u001b[0;36m<module>\u001b[1;34m\u001b[0m\n\u001b[1;32m----> 1\u001b[1;33m \u001b[0mX_train\u001b[0m \u001b[1;33m=\u001b[0m \u001b[0mX_train\u001b[0m\u001b[1;33m.\u001b[0m\u001b[0mreshape\u001b[0m\u001b[1;33m(\u001b[0m\u001b[1;36m165\u001b[0m\u001b[1;33m,\u001b[0m \u001b[1;36m7\u001b[0m\u001b[1;33m*\u001b[0m\u001b[1;36m7\u001b[0m\u001b[1;33m*\u001b[0m\u001b[1;36m512\u001b[0m\u001b[1;33m)\u001b[0m\u001b[1;33m\u001b[0m\u001b[1;33m\u001b[0m\u001b[0m\n\u001b[0m\u001b[0;32m      2\u001b[0m \u001b[0mX_test\u001b[0m \u001b[1;33m=\u001b[0m \u001b[0mX_test\u001b[0m\u001b[1;33m.\u001b[0m\u001b[0mreshape\u001b[0m\u001b[1;33m(\u001b[0m\u001b[1;36m42\u001b[0m\u001b[1;33m,\u001b[0m \u001b[1;36m7\u001b[0m\u001b[1;33m*\u001b[0m\u001b[1;36m7\u001b[0m\u001b[1;33m*\u001b[0m\u001b[1;36m512\u001b[0m\u001b[1;33m)\u001b[0m\u001b[1;33m\u001b[0m\u001b[1;33m\u001b[0m\u001b[0m\n",
      "\u001b[1;31mValueError\u001b[0m: cannot reshape array of size 24837120 into shape (165,25088)"
     ]
    }
   ],
   "source": []
  },
  {
   "cell_type": "code",
   "execution_count": 84,
   "metadata": {},
   "outputs": [],
   "source": [
    "max = X_train.max()\n",
    "X_train = X_train/max\n",
    "X_test = X_test/max"
   ]
  },
  {
   "cell_type": "code",
   "execution_count": 85,
   "metadata": {},
   "outputs": [
    {
     "data": {
      "text/plain": [
       "(165, 25088)"
      ]
     },
     "execution_count": 85,
     "metadata": {},
     "output_type": "execute_result"
    }
   ],
   "source": [
    "X_train.shape"
   ]
  },
  {
   "cell_type": "code",
   "execution_count": 86,
   "metadata": {},
   "outputs": [],
   "source": [
    "model = Sequential()\n",
    "\n",
    "model.add(Dense(128, activation='relu'))\n",
    "model.add(Dropout(0.5))\n",
    "\n",
    "model.add(Dense(128, activation='relu'))\n",
    "model.add(Dropout(0.5))\n",
    "\n",
    "model.add(Dense(101, activation='softmax'))"
   ]
  },
  {
   "cell_type": "code",
   "execution_count": 87,
   "metadata": {},
   "outputs": [],
   "source": [
    "from keras.callbacks import ModelCheckpoint\n",
    "mcp_save = ModelCheckpoint('weight.hdf5', save_best_only=True, monitor='val_loss', mode='max')"
   ]
  },
  {
   "cell_type": "code",
   "execution_count": 88,
   "metadata": {},
   "outputs": [],
   "source": [
    "model.compile(loss='categorical_crossentropy',optimizer='Adam',metrics=['accuracy'])"
   ]
  },
  {
   "cell_type": "code",
   "execution_count": 110,
   "metadata": {},
   "outputs": [
    {
     "ename": "ValueError",
     "evalue": "Error when checking input: expected sequential_6_input to have 2 dimensions, but got array with shape (165, 25088, 2)",
     "output_type": "error",
     "traceback": [
      "\u001b[1;31m---------------------------------------------------------------------------\u001b[0m",
      "\u001b[1;31mValueError\u001b[0m                                Traceback (most recent call last)",
      "\u001b[1;32m<ipython-input-110-5ddf348901ac>\u001b[0m in \u001b[0;36m<module>\u001b[1;34m\u001b[0m\n\u001b[1;32m----> 1\u001b[1;33m \u001b[0mmodel\u001b[0m\u001b[1;33m.\u001b[0m\u001b[0mfit\u001b[0m\u001b[1;33m(\u001b[0m\u001b[0mX_train\u001b[0m\u001b[1;33m,\u001b[0m \u001b[0my_train\u001b[0m\u001b[1;33m,\u001b[0m \u001b[0mepochs\u001b[0m\u001b[1;33m=\u001b[0m\u001b[1;36m5\u001b[0m\u001b[1;33m,\u001b[0m \u001b[0mvalidation_data\u001b[0m\u001b[1;33m=\u001b[0m\u001b[1;33m(\u001b[0m\u001b[0mX_test\u001b[0m\u001b[1;33m,\u001b[0m \u001b[0my_test\u001b[0m\u001b[1;33m)\u001b[0m\u001b[1;33m,\u001b[0m \u001b[0mcallbacks\u001b[0m\u001b[1;33m=\u001b[0m\u001b[1;33m[\u001b[0m\u001b[0mmcp_save\u001b[0m\u001b[1;33m]\u001b[0m\u001b[1;33m,\u001b[0m \u001b[0mbatch_size\u001b[0m\u001b[1;33m=\u001b[0m\u001b[1;36m128\u001b[0m\u001b[1;33m)\u001b[0m\u001b[1;33m\u001b[0m\u001b[1;33m\u001b[0m\u001b[0m\n\u001b[0m",
      "\u001b[1;32m~\\AppData\\Local\\Continuum\\anaconda3\\lib\\site-packages\\keras\\engine\\training.py\u001b[0m in \u001b[0;36mfit\u001b[1;34m(self, x, y, batch_size, epochs, verbose, callbacks, validation_split, validation_data, shuffle, class_weight, sample_weight, initial_epoch, steps_per_epoch, validation_steps, validation_freq, max_queue_size, workers, use_multiprocessing, **kwargs)\u001b[0m\n\u001b[0;32m   1152\u001b[0m             \u001b[0msample_weight\u001b[0m\u001b[1;33m=\u001b[0m\u001b[0msample_weight\u001b[0m\u001b[1;33m,\u001b[0m\u001b[1;33m\u001b[0m\u001b[1;33m\u001b[0m\u001b[0m\n\u001b[0;32m   1153\u001b[0m             \u001b[0mclass_weight\u001b[0m\u001b[1;33m=\u001b[0m\u001b[0mclass_weight\u001b[0m\u001b[1;33m,\u001b[0m\u001b[1;33m\u001b[0m\u001b[1;33m\u001b[0m\u001b[0m\n\u001b[1;32m-> 1154\u001b[1;33m             batch_size=batch_size)\n\u001b[0m\u001b[0;32m   1155\u001b[0m \u001b[1;33m\u001b[0m\u001b[0m\n\u001b[0;32m   1156\u001b[0m         \u001b[1;31m# Prepare validation data.\u001b[0m\u001b[1;33m\u001b[0m\u001b[1;33m\u001b[0m\u001b[1;33m\u001b[0m\u001b[0m\n",
      "\u001b[1;32m~\\AppData\\Local\\Continuum\\anaconda3\\lib\\site-packages\\keras\\engine\\training.py\u001b[0m in \u001b[0;36m_standardize_user_data\u001b[1;34m(self, x, y, sample_weight, class_weight, check_array_lengths, batch_size)\u001b[0m\n\u001b[0;32m    577\u001b[0m             \u001b[0mfeed_input_shapes\u001b[0m\u001b[1;33m,\u001b[0m\u001b[1;33m\u001b[0m\u001b[1;33m\u001b[0m\u001b[0m\n\u001b[0;32m    578\u001b[0m             \u001b[0mcheck_batch_axis\u001b[0m\u001b[1;33m=\u001b[0m\u001b[1;32mFalse\u001b[0m\u001b[1;33m,\u001b[0m  \u001b[1;31m# Don't enforce the batch size.\u001b[0m\u001b[1;33m\u001b[0m\u001b[1;33m\u001b[0m\u001b[0m\n\u001b[1;32m--> 579\u001b[1;33m             exception_prefix='input')\n\u001b[0m\u001b[0;32m    580\u001b[0m \u001b[1;33m\u001b[0m\u001b[0m\n\u001b[0;32m    581\u001b[0m         \u001b[1;32mif\u001b[0m \u001b[0my\u001b[0m \u001b[1;32mis\u001b[0m \u001b[1;32mnot\u001b[0m \u001b[1;32mNone\u001b[0m\u001b[1;33m:\u001b[0m\u001b[1;33m\u001b[0m\u001b[1;33m\u001b[0m\u001b[0m\n",
      "\u001b[1;32m~\\AppData\\Local\\Continuum\\anaconda3\\lib\\site-packages\\keras\\engine\\training_utils.py\u001b[0m in \u001b[0;36mstandardize_input_data\u001b[1;34m(data, names, shapes, check_batch_axis, exception_prefix)\u001b[0m\n\u001b[0;32m    133\u001b[0m                         \u001b[1;34m': expected '\u001b[0m \u001b[1;33m+\u001b[0m \u001b[0mnames\u001b[0m\u001b[1;33m[\u001b[0m\u001b[0mi\u001b[0m\u001b[1;33m]\u001b[0m \u001b[1;33m+\u001b[0m \u001b[1;34m' to have '\u001b[0m \u001b[1;33m+\u001b[0m\u001b[1;33m\u001b[0m\u001b[1;33m\u001b[0m\u001b[0m\n\u001b[0;32m    134\u001b[0m                         \u001b[0mstr\u001b[0m\u001b[1;33m(\u001b[0m\u001b[0mlen\u001b[0m\u001b[1;33m(\u001b[0m\u001b[0mshape\u001b[0m\u001b[1;33m)\u001b[0m\u001b[1;33m)\u001b[0m \u001b[1;33m+\u001b[0m \u001b[1;34m' dimensions, but got array '\u001b[0m\u001b[1;33m\u001b[0m\u001b[1;33m\u001b[0m\u001b[0m\n\u001b[1;32m--> 135\u001b[1;33m                         'with shape ' + str(data_shape))\n\u001b[0m\u001b[0;32m    136\u001b[0m                 \u001b[1;32mif\u001b[0m \u001b[1;32mnot\u001b[0m \u001b[0mcheck_batch_axis\u001b[0m\u001b[1;33m:\u001b[0m\u001b[1;33m\u001b[0m\u001b[1;33m\u001b[0m\u001b[0m\n\u001b[0;32m    137\u001b[0m                     \u001b[0mdata_shape\u001b[0m \u001b[1;33m=\u001b[0m \u001b[0mdata_shape\u001b[0m\u001b[1;33m[\u001b[0m\u001b[1;36m1\u001b[0m\u001b[1;33m:\u001b[0m\u001b[1;33m]\u001b[0m\u001b[1;33m\u001b[0m\u001b[1;33m\u001b[0m\u001b[0m\n",
      "\u001b[1;31mValueError\u001b[0m: Error when checking input: expected sequential_6_input to have 2 dimensions, but got array with shape (165, 25088, 2)"
     ]
    }
   ],
   "source": [
    "model.fit(X_train, y_train, epochs=5, validation_data=(X_test, y_test), callbacks=[mcp_save], batch_size=128)"
   ]
  },
  {
   "cell_type": "code",
   "execution_count": 114,
   "metadata": {},
   "outputs": [
    {
     "data": {
      "text/plain": [
       "array([[[1., 0.],\n",
       "        [1., 0.],\n",
       "        [1., 0.],\n",
       "        ...,\n",
       "        [1., 0.],\n",
       "        [1., 0.],\n",
       "        [1., 0.]],\n",
       "\n",
       "       [[1., 0.],\n",
       "        [1., 0.],\n",
       "        [1., 0.],\n",
       "        ...,\n",
       "        [1., 0.],\n",
       "        [1., 0.],\n",
       "        [1., 0.]],\n",
       "\n",
       "       [[1., 0.],\n",
       "        [1., 0.],\n",
       "        [1., 0.],\n",
       "        ...,\n",
       "        [1., 0.],\n",
       "        [1., 0.],\n",
       "        [0., 1.]],\n",
       "\n",
       "       ...,\n",
       "\n",
       "       [[1., 0.],\n",
       "        [1., 0.],\n",
       "        [1., 0.],\n",
       "        ...,\n",
       "        [1., 0.],\n",
       "        [1., 0.],\n",
       "        [1., 0.]],\n",
       "\n",
       "       [[1., 0.],\n",
       "        [1., 0.],\n",
       "        [1., 0.],\n",
       "        ...,\n",
       "        [1., 0.],\n",
       "        [1., 0.],\n",
       "        [1., 0.]],\n",
       "\n",
       "       [[1., 0.],\n",
       "        [1., 0.],\n",
       "        [1., 0.],\n",
       "        ...,\n",
       "        [1., 0.],\n",
       "        [0., 1.],\n",
       "        [1., 0.]]], dtype=float32)"
      ]
     },
     "execution_count": 114,
     "metadata": {},
     "output_type": "execute_result"
    }
   ],
   "source": [
    "y_train"
   ]
  },
  {
   "cell_type": "code",
   "execution_count": 98,
   "metadata": {},
   "outputs": [
    {
     "data": {
      "text/plain": [
       "array([[[1., 0.],\n",
       "        [1., 0.],\n",
       "        [1., 0.],\n",
       "        ...,\n",
       "        [1., 0.],\n",
       "        [1., 0.],\n",
       "        [1., 0.]],\n",
       "\n",
       "       [[1., 0.],\n",
       "        [1., 0.],\n",
       "        [1., 0.],\n",
       "        ...,\n",
       "        [1., 0.],\n",
       "        [1., 0.],\n",
       "        [1., 0.]],\n",
       "\n",
       "       [[1., 0.],\n",
       "        [1., 0.],\n",
       "        [1., 0.],\n",
       "        ...,\n",
       "        [1., 0.],\n",
       "        [1., 0.],\n",
       "        [1., 0.]],\n",
       "\n",
       "       ...,\n",
       "\n",
       "       [[1., 0.],\n",
       "        [1., 0.],\n",
       "        [1., 0.],\n",
       "        ...,\n",
       "        [1., 0.],\n",
       "        [1., 0.],\n",
       "        [1., 0.]],\n",
       "\n",
       "       [[1., 0.],\n",
       "        [1., 0.],\n",
       "        [1., 0.],\n",
       "        ...,\n",
       "        [1., 0.],\n",
       "        [1., 0.],\n",
       "        [1., 0.]],\n",
       "\n",
       "       [[1., 0.],\n",
       "        [1., 0.],\n",
       "        [1., 0.],\n",
       "        ...,\n",
       "        [1., 0.],\n",
       "        [1., 0.],\n",
       "        [1., 0.]]], dtype=float32)"
      ]
     },
     "execution_count": 98,
     "metadata": {},
     "output_type": "execute_result"
    }
   ],
   "source": [
    "X_train"
   ]
  },
  {
   "cell_type": "code",
   "execution_count": 109,
   "metadata": {},
   "outputs": [],
   "source": [
    "from keras.utils import to_categorical\n",
    "\n",
    "X_test =  to_categorical(X_test)"
   ]
  },
  {
   "cell_type": "code",
   "execution_count": 94,
   "metadata": {},
   "outputs": [
    {
     "data": {
      "text/plain": [
       "array([[0., 0., 0., ..., 0., 0., 0.],\n",
       "       [0., 0., 0., ..., 0., 0., 0.],\n",
       "       [0., 0., 0., ..., 0., 0., 1.],\n",
       "       ...,\n",
       "       [0., 0., 0., ..., 0., 0., 0.],\n",
       "       [0., 0., 0., ..., 0., 0., 0.],\n",
       "       [0., 0., 0., ..., 0., 1., 0.]], dtype=float32)"
      ]
     },
     "execution_count": 94,
     "metadata": {},
     "output_type": "execute_result"
    }
   ],
   "source": [
    "y_train = y_train.astype('float32')\n",
    "y_train"
   ]
  },
  {
   "cell_type": "code",
   "execution_count": 61,
   "metadata": {},
   "outputs": [],
   "source": [
    "X_train.shape[0], 28,28,1\n",
    "\n",
    "y_test = X_test.astype('float32')"
   ]
  },
  {
   "cell_type": "code",
   "execution_count": null,
   "metadata": {},
   "outputs": [],
   "source": [
    "from keras.utils import to_categorical\n",
    "train_labels = to_categorical(train_labels)"
   ]
  }
 ],
 "metadata": {
  "kernelspec": {
   "display_name": "Python 3",
   "language": "python",
   "name": "python3"
  },
  "language_info": {
   "codemirror_mode": {
    "name": "ipython",
    "version": 3
   },
   "file_extension": ".py",
   "mimetype": "text/x-python",
   "name": "python",
   "nbconvert_exporter": "python",
   "pygments_lexer": "ipython3",
   "version": "3.7.4"
  }
 },
 "nbformat": 4,
 "nbformat_minor": 2
}
