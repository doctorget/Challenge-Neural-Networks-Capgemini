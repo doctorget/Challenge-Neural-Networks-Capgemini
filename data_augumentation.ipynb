{
 "cells": [
  {
   "cell_type": "markdown",
   "metadata": {},
   "source": [
    "<h1>Data Agumentation</h1>"
   ]
  },
  {
   "cell_type": "markdown",
   "metadata": {},
   "source": [
    "<b> Author:</b> Caique Gonçalves <i> https://github.com/CaiqueCaah </i>"
   ]
  },
  {
   "cell_type": "markdown",
   "metadata": {},
   "source": [
    "<b>Author</b> Samuel Soares <i> https://github.com/doctorget </i>"
   ]
  },
  {
   "cell_type": "code",
   "execution_count": 1,
   "metadata": {},
   "outputs": [
    {
     "name": "stderr",
     "output_type": "stream",
     "text": [
      "Using TensorFlow backend.\n"
     ]
    }
   ],
   "source": [
    "from keras.preprocessing.image import ImageDataGenerator, array_to_img, img_to_array, load_img\n",
    "import os "
   ]
  },
  {
   "cell_type": "code",
   "execution_count": 2,
   "metadata": {},
   "outputs": [],
   "source": [
    "datagen = ImageDataGenerator(\n",
    "        rotation_range=40,\n",
    "        width_shift_range=0.2,\n",
    "        height_shift_range=0.2,\n",
    "        shear_range=0.2,\n",
    "        zoom_range=0.2,\n",
    "        horizontal_flip=True,\n",
    "        fill_mode='nearest')"
   ]
  },
  {
   "cell_type": "markdown",
   "metadata": {},
   "source": [
    "<ul><h3>Parametros</h3>\n",
    "<li>rotation_range é um valor em graus (0-180), um intervalo no qual girar fotos aleatoriamente</li>\n",
    "<li>width_shifte height_shift são intervalos (como uma fração da largura ou altura total) dentro dos quais é possível converter aleatoriamente imagens na vertical ou na horizontal.</li>\n",
    "<li>rescale é um valor pelo qual multiplicaremos os dados antes de qualquer outro processamento. Nossas imagens originais consistem em coeficientes RGB entre 0 e 255, mas esses valores seriam muito altos para serem processados por nossos modelos (dada uma taxa de aprendizado típica); portanto, alvejamos valores entre 0 e 1 ao invés de escalar com 1/255. fator.</li>\n",
    "<li>shear_range é para aplicar aleatoriamente transformações de cisalhamento</li>\n",
    "<li>zoom_range é para ampliar aleatoriamente as imagens internas</li>\n",
    "<li>horizontal_flip é para virar aleatoriamente metade das imagens horizontalmente - relevante quando não há suposições de assimetria horizontal (por exemplo, imagens do mundo real).</li>\n",
    "<li>fill_mode é a estratégia usada para preencher os pixels recém-criados, que podem aparecer após uma rotação ou uma mudança de largura / altura.</li>\n",
    "<ul>"
   ]
  },
  {
   "cell_type": "markdown",
   "metadata": {},
   "source": [
    "## percorre as pastas gerando imagens e balanceando as classes para que todas as classes contenham a mesma quantidade de imagens"
   ]
  },
  {
   "cell_type": "code",
   "execution_count": 3,
   "metadata": {},
   "outputs": [],
   "source": [
    "for folder in os.listdir('data-train'):\n",
    "    for name in os.listdir('data-train/'+folder):\n",
    "\n",
    "        while len(os.listdir('data-train/'+folder)) < 30:\n",
    "        \n",
    "            img = load_img('data-train/'+folder+'/'+name)\n",
    "            x = img_to_array(img)  # esta é uma matriz Numpy com forma (3, 150, 150) \n",
    "            x = x.reshape((1,) + x.shape)  # esta é uma matriz Numpy com shape (1, 3, 150, 150)\n",
    "            i = 0\n",
    "            \n",
    "            for batch in datagen.flow(x, batch_size=1,\n",
    "                                      save_to_dir = 'data-train/'+folder, \n",
    "                                      save_prefix = name, \n",
    "                                      save_format = 'jpeg'):\n",
    "                i += 1\n",
    "                if i >= 1:\n",
    "                    break  # otherwise the generator would loop indefinitely"
   ]
  },
  {
   "cell_type": "markdown",
   "metadata": {},
   "source": [
    "<p>Percorre pasta por pasta verificando se o tamanho de arquivos é inferior a 30 para gerar novas imagens</p>"
   ]
  },
  {
   "cell_type": "code",
   "execution_count": null,
   "metadata": {},
   "outputs": [],
   "source": []
  }
 ],
 "metadata": {
  "kernelspec": {
   "display_name": "Python 3",
   "language": "python",
   "name": "python3"
  },
  "language_info": {
   "codemirror_mode": {
    "name": "ipython",
    "version": 3
   },
   "file_extension": ".py",
   "mimetype": "text/x-python",
   "name": "python",
   "nbconvert_exporter": "python",
   "pygments_lexer": "ipython3",
   "version": "3.7.4"
  }
 },
 "nbformat": 4,
 "nbformat_minor": 2
}
